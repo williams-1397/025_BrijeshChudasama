{
 "cells": [
  {
   "cell_type": "code",
   "execution_count": 1,
   "source": [
    "import numpy as np"
   ],
   "outputs": [],
   "metadata": {}
  },
  {
   "cell_type": "code",
   "execution_count": 11,
   "source": [
    "#Create Two numpy array of size 3 X 2 and 2 X 3\r\n",
    "array1 = np.array([[1, 2, 3],[4, 5, 6]])\r\n",
    "array2 = np.array([[1,2],[3, 4],[5, 6]])\r\n",
    "print(array1)\r\n",
    "print(np.shape(array1))\r\n",
    "print(array2)\r\n",
    "print(np.shape(array2))"
   ],
   "outputs": [
    {
     "output_type": "stream",
     "name": "stdout",
     "text": [
      "[[1 2 3]\n",
      " [4 5 6]]\n",
      "(2, 3)\n",
      "[[1 2]\n",
      " [3 4]\n",
      " [5 6]]\n",
      "(3, 2)\n"
     ]
    }
   ],
   "metadata": {}
  },
  {
   "cell_type": "code",
   "execution_count": 14,
   "source": [
    "#Randomly Initalize that array\r\n",
    "array1 = np.random.rand(2,3)\r\n",
    "print(array1)\r\n",
    "array2 = np.random.rand(3,2)\r\n",
    "print(array2)"
   ],
   "outputs": [
    {
     "output_type": "stream",
     "name": "stdout",
     "text": [
      "[[0.37570033 0.40746993 0.84787334]\n",
      " [0.05768381 0.7574894  0.07946646]]\n",
      "[[0.78142704 0.30376413]\n",
      " [0.40522824 0.78763097]\n",
      " [0.7796498  0.20341481]]\n"
     ]
    }
   ],
   "metadata": {}
  },
  {
   "cell_type": "code",
   "execution_count": 15,
   "source": [
    "# perform matrix multiplication\r\n",
    "mul = np.dot(array1, array2)\r\n",
    "print(mul)"
   ],
   "outputs": [
    {
     "output_type": "stream",
     "name": "stdout",
     "text": [
      "[[1.119745   0.60753021]\n",
      " [0.4139878  0.63030904]]\n"
     ]
    }
   ],
   "metadata": {}
  },
  {
   "cell_type": "code",
   "execution_count": 16,
   "source": [
    "# perform element wise matrix multiplication\r\n",
    "res = [[0 for x in range(len(array1))] for y in range(len(array2[0]))]\r\n",
    "\r\n",
    "for i in range(len(array1)): \r\n",
    "  for j in range(len(array2[0])): \r\n",
    "    for k in range(len(array2)): \r\n",
    "      res[i][j] += array1[i][k] * array2[k][j]\r\n",
    " \r\n",
    "print (res)"
   ],
   "outputs": [
    {
     "output_type": "stream",
     "name": "stdout",
     "text": [
      "[[1.1197449997419249, 0.6075302104607908], [0.4139877972354667, 0.6303090379761362]]\n"
     ]
    }
   ],
   "metadata": {}
  },
  {
   "cell_type": "code",
   "execution_count": 19,
   "source": [
    "# mean of first matrix\n",
    "mean = np.mean(array1)\n",
    "print(mean)"
   ],
   "outputs": [
    {
     "output_type": "stream",
     "name": "stdout",
     "text": [
      "0.42094721225425696\n"
     ]
    }
   ],
   "metadata": {}
  },
  {
   "cell_type": "code",
   "execution_count": 21,
   "source": [
    "import pandas as pd\n",
    "md = pd.read_csv(\"mtcars.csv\")"
   ],
   "outputs": [],
   "metadata": {}
  },
  {
   "cell_type": "code",
   "execution_count": 22,
   "source": [
    "# Convert Numeric entries(columns) of mtcars.csv to Mean Centered Version\n",
    "del md['model']\n",
    "# meancenter\n",
    "meancenter = md.apply(lambda e: e - e.mean())\n",
    "print(meancenter.head())"
   ],
   "outputs": [
    {
     "output_type": "stream",
     "name": "stdout",
     "text": [
      "        mpg     cyl        disp       hp      drat       wt     qsec      vs  \\\n",
      "0  0.909375 -0.1875  -70.721875 -36.6875  0.303437 -0.59725 -1.38875 -0.4375   \n",
      "1  0.909375 -0.1875  -70.721875 -36.6875  0.303437 -0.34225 -0.82875 -0.4375   \n",
      "2  2.709375 -2.1875 -122.721875 -53.6875  0.253437 -0.89725  0.76125  0.5625   \n",
      "3  1.309375 -0.1875   27.278125 -36.6875 -0.516563 -0.00225  1.59125  0.5625   \n",
      "4 -1.390625  1.8125  129.278125  28.3125 -0.446563  0.22275 -0.82875 -0.4375   \n",
      "\n",
      "        am    gear    carb  \n",
      "0  0.59375  0.3125  1.1875  \n",
      "1  0.59375  0.3125  1.1875  \n",
      "2  0.59375  0.3125 -1.8125  \n",
      "3 -0.40625 -0.6875 -1.8125  \n",
      "4 -0.40625 -0.6875 -0.8125  \n"
     ]
    }
   ],
   "metadata": {
    "scrolled": true
   }
  },
  {
   "cell_type": "code",
   "execution_count": null,
   "source": [],
   "outputs": [],
   "metadata": {}
  }
 ],
 "metadata": {
  "kernelspec": {
   "display_name": "Python 3 (ipykernel)",
   "language": "python",
   "name": "python3"
  },
  "language_info": {
   "codemirror_mode": {
    "name": "ipython",
    "version": 3
   },
   "file_extension": ".py",
   "mimetype": "text/x-python",
   "name": "python",
   "nbconvert_exporter": "python",
   "pygments_lexer": "ipython3",
   "version": "3.8.10"
  }
 },
 "nbformat": 4,
 "nbformat_minor": 5
}