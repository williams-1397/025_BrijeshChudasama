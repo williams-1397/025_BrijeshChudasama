{
 "cells": [
  {
   "cell_type": "code",
   "execution_count": 3,
   "metadata": {
    "colab": {},
    "colab_type": "code",
    "id": "hGjSHVILNF5c"
   },
   "outputs": [],
   "source": [
    "import numpy as np\n",
    "import tensorflow as tf"
   ]
  },
  {
   "cell_type": "code",
   "execution_count": 4,
   "metadata": {
    "colab": {},
    "colab_type": "code",
    "id": "GmT2BmVeNKM8"
   },
   "outputs": [],
   "source": [
    "# Input (temp, rainfall, humidity)\n",
    "inputs = np.array([[73, 67, 43], [91, 88, 64], [87, 134, 58], [102, 43, 37], [69, 96, 70], [73, 67, 43], [91, 88, 64], [87, 134, 58], [102, 43, 37], [69, 96, 70], [73, 67, 43\n",
    "], [91, 88, 64], [87, 134, 58], [102, 43, 37], [69, 96, 70]], dtype='float64')\n",
    "# Targets (apples, oranges)\n",
    "targets = np.array([[56, 70], [81, 101], [119, 133], [22, 37], [103, 119],\n",
    "[56, 70], [81, 101], [119, 133], [22, 37], [103, 119],\n",
    "[56, 70], [81, 101], [119, 133], [22, 37], [103, 119]], dtype='float64')\n"
   ]
  },
  {
   "cell_type": "code",
   "execution_count": 5,
   "metadata": {
    "colab": {},
    "colab_type": "code",
    "id": "kPuxUMvNNXNs"
   },
   "outputs": [],
   "source": [
    "inputs = tf.Variable(inputs)\n",
    "targets = tf.Variable(targets)"
   ]
  },
  {
   "cell_type": "code",
   "execution_count": 7,
   "metadata": {
    "colab": {
     "base_uri": "https://localhost:8080/",
     "height": 109
    },
    "colab_type": "code",
    "id": "TYhbEMfUNe9Q",
    "outputId": "897f8d32-25fb-4f53-f00c-5cd29e2da89e"
   },
   "outputs": [
    {
     "name": "stdout",
     "output_type": "stream",
     "text": [
      "<tf.Variable 'Variable:0' shape=(3, 2) dtype=float64, numpy=\n",
      "array([[0.24271727, 0.32553848],\n",
      "       [0.68312256, 0.42316728],\n",
      "       [0.13143023, 0.53197459]])>\n",
      "<tf.Variable 'Variable:0' shape=(2,) dtype=float64, numpy=array([-1.31662991,  2.3773318 ])>\n"
     ]
    }
   ],
   "source": [
    "w= np.random.rand(3,2)\n",
    "b = np.random.randn(2)\n",
    "w = tf.Variable(w)\n",
    "b = tf.Variable(b)\n",
    "print(w)\n",
    "print(b)\n"
   ]
  },
  {
   "cell_type": "code",
   "execution_count": 9,
   "metadata": {
    "colab": {
     "base_uri": "https://localhost:8080/",
     "height": 311
    },
    "colab_type": "code",
    "id": "2yNGAjsVN2rt",
    "outputId": "099d12fb-a6e8-47b9-eb28-145b644bdd6d"
   },
   "outputs": [
    {
     "name": "stdout",
     "output_type": "stream",
     "text": [
      "tf.Tensor(\n",
      "[[ 67.82244244  77.36875623]\n",
      " [ 89.29696195 103.28642818]\n",
      " [118.96114944 118.25812179]\n",
      " [ 57.67772037  73.46150988]\n",
      " [ 90.21074389 102.70176736]\n",
      " [ 67.82244244  77.36875623]\n",
      " [ 89.29696195 103.28642818]\n",
      " [118.96114944 118.25812179]\n",
      " [ 57.67772037  73.46150988]\n",
      " [ 90.21074389 102.70176736]\n",
      " [ 67.82244244  77.36875623]\n",
      " [ 89.29696195 103.28642818]\n",
      " [118.96114944 118.25812179]\n",
      " [ 57.67772037  73.46150988]\n",
      " [ 90.21074389 102.70176736]], shape=(15, 2), dtype=float64)\n"
     ]
    }
   ],
   "source": [
    "def model(x):\n",
    "  return x @ w + b\n",
    "prediction = model(inputs)\n",
    "print(prediction)"
   ]
  },
  {
   "cell_type": "code",
   "execution_count": 10,
   "metadata": {
    "colab": {},
    "colab_type": "code",
    "id": "7JQzoSgIQfX9"
   },
   "outputs": [],
   "source": [
    "def mean_square(y_pred, y_true):\n",
    "  return tf.reduce_sum(tf.pow(y_pred - y_true, 2))"
   ]
  },
  {
   "cell_type": "code",
   "execution_count": 11,
   "metadata": {
    "colab": {
     "base_uri": "https://localhost:8080/",
     "height": 35
    },
    "colab_type": "code",
    "id": "oTQLqDkvYvXG",
    "outputId": "deb78942-fbeb-4e43-83b4-0708c8a2dc92"
   },
   "outputs": [
    {
     "name": "stdout",
     "output_type": "stream",
     "text": [
      "tf.Tensor(10550.998261043407, shape=(), dtype=float64)\n"
     ]
    }
   ],
   "source": [
    "print(mean_square(prediction,targets))"
   ]
  },
  {
   "cell_type": "code",
   "execution_count": 15,
   "metadata": {
    "colab": {
     "base_uri": "https://localhost:8080/",
     "height": 752
    },
    "colab_type": "code",
    "id": "1eBl0OB0Y1a6",
    "outputId": "1a8d971d-ce5b-4711-ffab-1691d5ccb6e8"
   },
   "outputs": [
    {
     "name": "stdout",
     "output_type": "stream",
     "text": [
      "Epoch count 0: Loss value: 10550.998261043407\n",
      "Epoch count 1: Loss value: 1932947.1787377123\n",
      "Epoch count 2: Loss value: 5352454878.042018\n",
      "Epoch count 3: Loss value: 14881321296358.545\n",
      "Epoch count 4: Loss value: 4.13742826502789e+16\n",
      "Epoch count 5: Loss value: 1.1503220925809833e+20\n",
      "Epoch count 6: Loss value: 3.198220807511937e+23\n",
      "Epoch count 7: Loss value: 8.891958521506191e+26\n",
      "Epoch count 8: Loss value: 2.4722159946703892e+30\n",
      "Epoch count 9: Loss value: 6.873459777755271e+33\n",
      "Epoch count 10: Loss value: 1.9110162468922318e+37\n",
      "Epoch count 11: Loss value: 5.313165733078216e+40\n",
      "Epoch count 12: Loss value: 1.4772103666342363e+44\n",
      "Epoch count 13: Loss value: 4.10706267584733e+47\n",
      "Epoch count 14: Loss value: 1.1418795998413682e+51\n",
      "Epoch count 15: Loss value: 3.174748289578702e+54\n",
      "Epoch count 16: Loss value: 8.826698282010719e+57\n",
      "Epoch count 17: Loss value: 2.454071802082613e+61\n",
      "Epoch count 18: Loss value: 6.823013789936736e+64\n",
      "Epoch count 19: Loss value: 1.8969908353194831e+68\n",
      "Epoch count 20: Loss value: 5.274171121555768e+71\n",
      "Epoch count 21: Loss value: 1.4663687615954154e+75\n",
      "Epoch count 22: Loss value: 4.076919947088478e+78\n",
      "Epoch count 23: Loss value: 1.1334990686029003e+82\n",
      "Epoch count 24: Loss value: 3.1514480421456234e+85\n",
      "Epoch count 25: Loss value: 8.761917003235615e+88\n",
      "Epoch count 26: Loss value: 2.4360607741233994e+92\n",
      "Epoch count 27: Loss value: 6.772938037453713e+95\n",
      "Epoch count 28: Loss value: 1.883068359642807e+99\n",
      "Epoch count 29: Loss value: 5.235462700941747e+102\n",
      "Epoch count 30: Loss value: 1.4556067257245817e+106\n",
      "Epoch count 31: Loss value: 4.046998443124258e+109\n",
      "Epoch count 32: Loss value: 1.1251800441150974e+113\n",
      "Epoch count 33: Loss value: 3.1283188008777324e+116\n",
      "Epoch count 34: Loss value: 8.69761116997203e+119\n",
      "Epoch count 35: Loss value: 2.4181819334652538e+123\n",
      "Epoch count 36: Loss value: 6.723229803059315e+126\n",
      "Epoch count 37: Loss value: 1.8692480643907053e+130\n",
      "Epoch count 38: Loss value: 5.197038370811689e+133\n",
      "Epoch count 39: Loss value: 1.4449236750443221e+137\n"
     ]
    }
   ],
   "source": [
    "epochs = 40\n",
    "for epoch_count in range(epochs):\n",
    "  with tf.GradientTape(persistent=True) as t:\n",
    "    current_loss = mean_square(targets, model(inputs))\n",
    "  w1 = t.gradient(current_loss,w)\n",
    "  b1 = t.gradient(current_loss,b)\n",
    "  w.assign_sub(1e-4 * w1)\n",
    "  b.assign_sub(1e-4 * b1)\n",
    "  print(f\"Epoch count {epoch_count}: Loss value: {current_loss.numpy()}\")"
   ]
  },
  {
   "cell_type": "code",
   "execution_count": null,
   "metadata": {
    "colab": {},
    "colab_type": "code",
    "id": "tziUu8JLcaQf"
   },
   "outputs": [],
   "source": []
  }
 ],
 "metadata": {
  "colab": {
   "name": "Untitled0.ipynb",
   "provenance": []
  },
  "kernelspec": {
   "display_name": "Python 3",
   "language": "python",
   "name": "python3"
  }
 },
 "nbformat": 4,
 "nbformat_minor": 1
}
