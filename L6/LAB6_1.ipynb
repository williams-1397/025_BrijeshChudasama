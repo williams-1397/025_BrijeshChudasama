{
 "cells": [
  {
   "cell_type": "code",
   "execution_count": 1,
   "source": [
    "import numpy as np\r\n",
    "import pandas as pd\r\n",
    "import io\r\n",
    "import matplotlib.pyplot as plt"
   ],
   "outputs": [],
   "metadata": {
    "colab": {},
    "colab_type": "code",
    "id": "A6yL719jZ7JT"
   }
  },
  {
   "cell_type": "code",
   "execution_count": 45,
   "source": [
    "df=pd.read_csv('/BuyComputer.csv')\r\n"
   ],
   "outputs": [],
   "metadata": {
    "colab": {},
    "colab_type": "code",
    "id": "MwqjBvstayEY"
   }
  },
  {
   "cell_type": "code",
   "execution_count": 8,
   "source": [
    "df.drop(columns=['User ID',],axis=1,inplace=True)\r\n",
    "df.head()"
   ],
   "outputs": [
    {
     "output_type": "execute_result",
     "data": {
      "text/html": [
       "<div>\n",
       "<style scoped>\n",
       "    .dataframe tbody tr th:only-of-type {\n",
       "        vertical-align: middle;\n",
       "    }\n",
       "\n",
       "    .dataframe tbody tr th {\n",
       "        vertical-align: top;\n",
       "    }\n",
       "\n",
       "    .dataframe thead th {\n",
       "        text-align: right;\n",
       "    }\n",
       "</style>\n",
       "<table border=\"1\" class=\"dataframe\">\n",
       "  <thead>\n",
       "    <tr style=\"text-align: right;\">\n",
       "      <th></th>\n",
       "      <th>Age</th>\n",
       "      <th>EstimatedSalary</th>\n",
       "      <th>Purchased</th>\n",
       "    </tr>\n",
       "  </thead>\n",
       "  <tbody>\n",
       "    <tr>\n",
       "      <th>0</th>\n",
       "      <td>19</td>\n",
       "      <td>19000</td>\n",
       "      <td>0</td>\n",
       "    </tr>\n",
       "    <tr>\n",
       "      <th>1</th>\n",
       "      <td>35</td>\n",
       "      <td>20000</td>\n",
       "      <td>0</td>\n",
       "    </tr>\n",
       "    <tr>\n",
       "      <th>2</th>\n",
       "      <td>26</td>\n",
       "      <td>43000</td>\n",
       "      <td>0</td>\n",
       "    </tr>\n",
       "    <tr>\n",
       "      <th>3</th>\n",
       "      <td>27</td>\n",
       "      <td>57000</td>\n",
       "      <td>0</td>\n",
       "    </tr>\n",
       "    <tr>\n",
       "      <th>4</th>\n",
       "      <td>19</td>\n",
       "      <td>76000</td>\n",
       "      <td>0</td>\n",
       "    </tr>\n",
       "  </tbody>\n",
       "</table>\n",
       "</div>"
      ],
      "text/plain": [
       "   Age  EstimatedSalary  Purchased\n",
       "0   19            19000          0\n",
       "1   35            20000          0\n",
       "2   26            43000          0\n",
       "3   27            57000          0\n",
       "4   19            76000          0"
      ]
     },
     "metadata": {
      "tags": []
     },
     "execution_count": 8
    }
   ],
   "metadata": {
    "colab": {
     "base_uri": "https://localhost:8080/",
     "height": 206
    },
    "colab_type": "code",
    "id": "nNsQ0xsHcolT",
    "outputId": "4556e117-c5e9-480e-90e2-0ea8ab8a1cbf"
   }
  },
  {
   "cell_type": "code",
   "execution_count": 9,
   "source": [
    "y=df.iloc[:,-1]\r\n",
    "y"
   ],
   "outputs": [
    {
     "output_type": "execute_result",
     "data": {
      "text/plain": [
       "0      0\n",
       "1      0\n",
       "2      0\n",
       "3      0\n",
       "4      0\n",
       "      ..\n",
       "395    1\n",
       "396    1\n",
       "397    1\n",
       "398    0\n",
       "399    1\n",
       "Name: Purchased, Length: 400, dtype: int64"
      ]
     },
     "metadata": {
      "tags": []
     },
     "execution_count": 9
    }
   ],
   "metadata": {
    "colab": {
     "base_uri": "https://localhost:8080/",
     "height": 237
    },
    "colab_type": "code",
    "id": "3nhEEBdGc6ed",
    "outputId": "8a359545-22c3-4911-888c-92a34414b459"
   }
  },
  {
   "cell_type": "code",
   "execution_count": 44,
   "source": [
    "x=df.iloc[:,0:-1]\r\n"
   ],
   "outputs": [],
   "metadata": {
    "colab": {},
    "colab_type": "code",
    "id": "YkTlaax3dU1m"
   }
  },
  {
   "cell_type": "code",
   "execution_count": 12,
   "source": [
    "from sklearn.model_selection import train_test_split\r\n",
    "X_train,X_test,Y_train,Y_test =  train_test_split(x,y,test_size=0.3,random_state=25)\r\n"
   ],
   "outputs": [],
   "metadata": {
    "colab": {},
    "colab_type": "code",
    "id": "T91-BG4nda6a"
   }
  },
  {
   "cell_type": "code",
   "execution_count": 14,
   "source": [
    "from sklearn.preprocessing import StandardScaler\r\n",
    "sc=StandardScaler()\r\n",
    "X_train=sc.fit_transform(X_train)\r\n",
    "X_test=sc.transform(X_test)"
   ],
   "outputs": [],
   "metadata": {
    "colab": {},
    "colab_type": "code",
    "id": "Foxqxzv_dzeM"
   }
  },
  {
   "cell_type": "code",
   "execution_count": 15,
   "source": [
    "y_pred=[]\r\n",
    "len_x=len(X_train[0])\r\n",
    "w=[]\r\n",
    "b=0.2\r\n",
    "print(len_x)"
   ],
   "outputs": [
    {
     "output_type": "stream",
     "name": "stdout",
     "text": [
      "2\n"
     ]
    }
   ],
   "metadata": {
    "colab": {
     "base_uri": "https://localhost:8080/",
     "height": 35
    },
    "colab_type": "code",
    "id": "4yXUZLFreJcR",
    "outputId": "fcf401f1-fbe5-4f97-b132-69ae9f74c9a3"
   }
  },
  {
   "cell_type": "code",
   "execution_count": 16,
   "source": [
    "entries=len(X_train[:,0])\r\n",
    "entries"
   ],
   "outputs": [
    {
     "output_type": "execute_result",
     "data": {
      "text/plain": [
       "280"
      ]
     },
     "metadata": {
      "tags": []
     },
     "execution_count": 16
    }
   ],
   "metadata": {
    "colab": {
     "base_uri": "https://localhost:8080/",
     "height": 35
    },
    "colab_type": "code",
    "id": "W62KHHAaec3Q",
    "outputId": "46358ec3-d13e-4a3c-bae4-20dca119d21e"
   }
  },
  {
   "cell_type": "code",
   "execution_count": 17,
   "source": [
    "for weight  in range(len_x):\r\n",
    "    w.append(0)\r\n",
    "w "
   ],
   "outputs": [
    {
     "output_type": "execute_result",
     "data": {
      "text/plain": [
       "[0, 0]"
      ]
     },
     "metadata": {
      "tags": []
     },
     "execution_count": 17
    }
   ],
   "metadata": {
    "colab": {
     "base_uri": "https://localhost:8080/",
     "height": 35
    },
    "colab_type": "code",
    "id": "vs_8ucw3ekfs",
    "outputId": "b46fedb4-ad83-4d65-b7f2-6c19af6fab98"
   }
  },
  {
   "cell_type": "code",
   "execution_count": 25,
   "source": [
    "#Sigmoif Function\r\n",
    "\r\n",
    "def sigmoid(z):\r\n",
    "    return (1/(1+np.exp(-z)))"
   ],
   "outputs": [],
   "metadata": {
    "colab": {},
    "colab_type": "code",
    "id": "QWcuaN6OerLe"
   }
  },
  {
   "cell_type": "code",
   "execution_count": 26,
   "source": [
    "def predict(inputs):\r\n",
    "  return sigmoid(np.matrix(inputs)*np.transpose(np.matrix(w)))"
   ],
   "outputs": [],
   "metadata": {
    "colab": {},
    "colab_type": "code",
    "id": "i65K8AHRe0vr"
   }
  },
  {
   "cell_type": "code",
   "execution_count": 28,
   "source": [
    "def loss_func(y,a):\r\n",
    "  J=0\r\n",
    "  for data in zip(y,a):\r\n",
    "    J=J+(data[1]*np.log(data[0])+(1-data[1])*np.log(1-data[0]))\r\n",
    "    J=-(J/len(a))\r\n",
    "  return J\r\n",
    "print(loss_func(predict(X_train),Y_train))"
   ],
   "outputs": [
    {
     "output_type": "stream",
     "name": "stdout",
     "text": [
      "[[0.00246672]]\n"
     ]
    }
   ],
   "metadata": {
    "colab": {
     "base_uri": "https://localhost:8080/",
     "height": 35
    },
    "colab_type": "code",
    "id": "_wFVZ9ESfL_U",
    "outputId": "3761d5e1-6ac5-4738-a290-174319b943c1"
   }
  },
  {
   "cell_type": "code",
   "execution_count": 29,
   "source": [
    "dw = []\r\n",
    "db = 0\r\n",
    "J = 0\r\n",
    "len_x=len(X_train[0])\r\n",
    "alpha = 0.1\r\n",
    "for x in range(len_x):\r\n",
    "  dw.append(0)"
   ],
   "outputs": [],
   "metadata": {
    "colab": {},
    "colab_type": "code",
    "id": "IdUjodW1fosN"
   }
  },
  {
   "cell_type": "code",
   "execution_count": 32,
   "source": [
    "#Reset Process \r\n",
    "for i in range(400):\r\n",
    "  pred=predict(X_train)\r\n",
    "  for i in range(len(dw)):\r\n",
    "    if i==0:\r\n",
    "      temp=0\r\n",
    "      for data in zip(pred,Y_train):\r\n",
    "        temp+=data[0]-data[1]\r\n",
    "        dw[i]=dw[i]-alpha*temp\r\n",
    "        db=db-alpha*temp\r\n",
    "    else:\r\n",
    "      y_train=np.array(Y_train)\r\n",
    "      for i in range(len(dw)):\r\n",
    "        loss=0\r\n",
    "        for j in range(len(pred)):\r\n",
    "          a=pred[j]\r\n",
    "          b=y_train[j]\r\n",
    "          c=X_train[j][i]\r\n",
    "          loss+=(a-b)*c\r\n",
    "          dw[i]=dw[i]-alpha*loss\r\n",
    "          db=db-alpha*loss\r\n",
    "print(dw)"
   ],
   "outputs": [
    {
     "output_type": "stream",
     "name": "stdout",
     "text": [
      "[matrix([[226289.27609774]]), matrix([[224978.65141622]])]\n"
     ]
    }
   ],
   "metadata": {
    "colab": {
     "base_uri": "https://localhost:8080/",
     "height": 35
    },
    "colab_type": "code",
    "id": "H1LBmaZ_goGs",
    "outputId": "5d6e3b6f-55df-47cc-eb83-02d87a720eef"
   }
  },
  {
   "cell_type": "code",
   "execution_count": 33,
   "source": [
    "#print Bias\r\n",
    "db"
   ],
   "outputs": [
    {
     "output_type": "execute_result",
     "data": {
      "text/plain": [
       "matrix([[451267.92751396]])"
      ]
     },
     "metadata": {
      "tags": []
     },
     "execution_count": 33
    }
   ],
   "metadata": {
    "colab": {
     "base_uri": "https://localhost:8080/",
     "height": 35
    },
    "colab_type": "code",
    "id": "4jwY5_JMg-3k",
    "outputId": "6b800b63-5b32-49bb-ab7c-bcefc42deddf"
   }
  },
  {
   "cell_type": "code",
   "execution_count": 35,
   "source": [
    "#Predict the Label\r\n",
    "result=predict(X_test)\r\n"
   ],
   "outputs": [],
   "metadata": {
    "colab": {},
    "colab_type": "code",
    "id": "O8ImsyrNhJ0x"
   }
  },
  {
   "cell_type": "code",
   "execution_count": 37,
   "source": [
    "from tabulate import tabulate\r\n",
    "for i in range(len(result)):\r\n",
    "    if result[i]>=0.5:\r\n",
    "        result[i]=1\r\n",
    "    else:\r\n",
    "        result[i]=0\r\n",
    "tabel=tabulate(zip(Y_test,result),headers=[\"Actual\",\"Predicted\"])\r\n",
    "print(tabel)"
   ],
   "outputs": [
    {
     "output_type": "stream",
     "name": "stdout",
     "text": [
      "  Actual    Predicted\n",
      "--------  -----------\n",
      "       0            1\n",
      "       0            1\n",
      "       0            1\n",
      "       0            1\n",
      "       0            1\n",
      "       0            1\n",
      "       0            1\n",
      "       0            1\n",
      "       1            1\n",
      "       1            1\n",
      "       0            1\n",
      "       0            1\n",
      "       0            1\n",
      "       0            1\n",
      "       0            1\n",
      "       0            1\n",
      "       0            1\n",
      "       1            1\n",
      "       0            1\n",
      "       0            1\n",
      "       0            1\n",
      "       0            1\n",
      "       0            1\n",
      "       0            1\n",
      "       0            1\n",
      "       0            1\n",
      "       1            1\n",
      "       0            1\n",
      "       0            1\n",
      "       1            1\n",
      "       1            1\n",
      "       1            1\n",
      "       0            1\n",
      "       0            1\n",
      "       1            1\n",
      "       0            1\n",
      "       1            1\n",
      "       1            1\n",
      "       1            1\n",
      "       1            1\n",
      "       1            1\n",
      "       0            1\n",
      "       1            1\n",
      "       1            1\n",
      "       1            1\n",
      "       1            1\n",
      "       0            1\n",
      "       1            1\n",
      "       1            1\n",
      "       1            1\n",
      "       1            1\n",
      "       1            1\n",
      "       0            1\n",
      "       0            1\n",
      "       1            1\n",
      "       0            1\n",
      "       0            1\n",
      "       0            1\n",
      "       0            1\n",
      "       0            1\n",
      "       1            1\n",
      "       0            1\n",
      "       0            1\n",
      "       1            1\n",
      "       0            1\n",
      "       0            1\n",
      "       1            1\n",
      "       0            1\n",
      "       1            1\n",
      "       1            1\n",
      "       0            1\n",
      "       0            1\n",
      "       0            1\n",
      "       0            1\n",
      "       1            1\n",
      "       1            1\n",
      "       0            1\n",
      "       0            1\n",
      "       0            1\n",
      "       1            1\n",
      "       0            1\n",
      "       0            1\n",
      "       0            1\n",
      "       0            1\n",
      "       0            1\n",
      "       0            1\n",
      "       1            1\n",
      "       1            1\n",
      "       1            1\n",
      "       0            1\n",
      "       0            1\n",
      "       0            1\n",
      "       0            1\n",
      "       0            1\n",
      "       0            1\n",
      "       1            1\n",
      "       0            1\n",
      "       0            1\n",
      "       1            1\n",
      "       0            1\n",
      "       1            1\n",
      "       0            1\n",
      "       1            1\n",
      "       1            1\n",
      "       1            1\n",
      "       1            1\n",
      "       1            1\n",
      "       0            1\n",
      "       0            1\n",
      "       0            1\n",
      "       1            1\n",
      "       0            1\n",
      "       0            1\n",
      "       1            1\n",
      "       0            1\n",
      "       0            1\n",
      "       0            1\n",
      "       0            1\n",
      "       0            1\n",
      "       0            1\n"
     ]
    }
   ],
   "metadata": {
    "colab": {
     "base_uri": "https://localhost:8080/",
     "height": 1000
    },
    "colab_type": "code",
    "id": "sQtATV-2hO8f",
    "outputId": "834b76b7-4205-41fc-b9c7-b2d87b98baf2"
   }
  },
  {
   "cell_type": "code",
   "execution_count": 39,
   "source": [
    "#Calculate Accuracy of Prediction\r\n",
    "from sklearn import metrics\r\n",
    "print(metrics.accuracy_score(Y_test,result))"
   ],
   "outputs": [
    {
     "output_type": "stream",
     "name": "stdout",
     "text": [
      "0.36666666666666664\n"
     ]
    }
   ],
   "metadata": {
    "colab": {
     "base_uri": "https://localhost:8080/",
     "height": 35
    },
    "colab_type": "code",
    "id": "TeDWFhEyhYg5",
    "outputId": "eb18c596-5057-4329-a6e0-1849c3af733c"
   }
  },
  {
   "cell_type": "code",
   "execution_count": 40,
   "source": [
    "# USing Sklearn Logistic model\r\n",
    "from sklearn.linear_model import LogisticRegression\r\n",
    "LR=LogisticRegression(random_state=25)"
   ],
   "outputs": [],
   "metadata": {
    "colab": {},
    "colab_type": "code",
    "id": "R0H_hNwWhh33"
   }
  },
  {
   "cell_type": "code",
   "execution_count": 41,
   "source": [
    "LR.fit(X_train,y_train)\r\n",
    "print(LR.predict(X_test))"
   ],
   "outputs": [
    {
     "output_type": "stream",
     "name": "stdout",
     "text": [
      "[1 1 1 1 1 1 1 1 1 1 1 1 1 1 1 1 1 1 1 1 1 1 1 1 1 1 1 1 1 1 1 1 1 1 1 1 1\n",
      " 1 1 1 1 1 1 1 1 1 1 1 1 1 1 1 1 1 1 1 1 1 1 1 1 1 1 1 1 1 1 1 1 1 1 1 1 1\n",
      " 1 1 1 1 1 1 1 1 1 1 1 1 1 1 1 1 1 1 1 1 1 1 1 1 1 1 1 1 1 1 1 1 1 1 1 1 1\n",
      " 1 1 1 1 1 1 1 1 1]\n"
     ]
    }
   ],
   "metadata": {
    "colab": {
     "base_uri": "https://localhost:8080/",
     "height": 90
    },
    "colab_type": "code",
    "id": "BX9HqiZ9hsT8",
    "outputId": "300caffb-0258-4769-e461-0f6df6109833"
   }
  },
  {
   "cell_type": "code",
   "execution_count": 43,
   "source": [
    "from sklearn import metrics\r\n",
    "acc=metrics.accuracy_score(Y_test,LR.predict(X_test))\r\n",
    "print(acc)"
   ],
   "outputs": [
    {
     "output_type": "stream",
     "name": "stdout",
     "text": [
      "0.36666666666666664\n"
     ]
    }
   ],
   "metadata": {
    "colab": {
     "base_uri": "https://localhost:8080/",
     "height": 35
    },
    "colab_type": "code",
    "id": "nRH9Lh3ehuMz",
    "outputId": "21a526a9-4293-4885-9045-edb4d20d07fa"
   }
  },
  {
   "cell_type": "code",
   "execution_count": null,
   "source": [],
   "outputs": [],
   "metadata": {
    "colab": {},
    "colab_type": "code",
    "id": "f7djKBp4hyfY"
   }
  }
 ],
 "metadata": {
  "colab": {
   "name": "068_01.ipynb",
   "provenance": []
  },
  "kernelspec": {
   "display_name": "Python 3",
   "language": "python",
   "name": "python3"
  },
  "language_info": {
   "codemirror_mode": {
    "name": "ipython",
    "version": 3
   },
   "file_extension": ".py",
   "mimetype": "text/x-python",
   "name": "python",
   "nbconvert_exporter": "python",
   "pygments_lexer": "ipython3",
   "version": "3.7.1"
  }
 },
 "nbformat": 4,
 "nbformat_minor": 1
}